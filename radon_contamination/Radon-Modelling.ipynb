{
 "cells": [
  {
   "cell_type": "code",
   "execution_count": 1,
   "metadata": {},
   "outputs": [
    {
     "data": {
      "text/html": [
       "<style>\n",
       "    @font-face {\n",
       "        font-family: \"Computer Modern\";\n",
       "        src: url('http://mirrors.ctan.org/fonts/cm-unicode/fonts/otf/cmunss.otf');\n",
       "    }\n",
       "    div.cell{\n",
       "        width: 90%;\n",
       "/*        margin-left:auto;*/\n",
       "/*        margin-right:auto;*/\n",
       "    }\n",
       "    ul {\n",
       "        line-height: 145%;\n",
       "        font-size: 90%;\n",
       "    }\n",
       "    li {\n",
       "        margin-bottom: 1em;\n",
       "    }\n",
       "    h1 {\n",
       "        font-family: Helvetica, serif;\n",
       "    }\n",
       "    h4{\n",
       "        margin-top: 12px;\n",
       "        margin-bottom: 3px;\n",
       "       }\n",
       "    div.text_cell_render{\n",
       "        font-family: Computer Modern, \"Helvetica Neue\", Arial, Helvetica, Geneva, sans-serif;\n",
       "        line-height: 145%;\n",
       "        font-size: 130%;\n",
       "        width: 90%;\n",
       "        margin-left:auto;\n",
       "        margin-right:auto;\n",
       "    }\n",
       "    .CodeMirror{\n",
       "            font-family: \"Source Code Pro\", source-code-pro,Consolas, monospace;\n",
       "    }\n",
       "/*    .prompt{\n",
       "        display: None;\n",
       "    }*/\n",
       "    .text_cell_render h5 {\n",
       "        font-weight: 300;\n",
       "        font-size: 16pt;\n",
       "        color: #4057A1;\n",
       "        font-style: italic;\n",
       "        margin-bottom: 0.5em;\n",
       "        margin-top: 0.5em;\n",
       "        display: block;\n",
       "    }\n",
       "\n",
       "    .warning{\n",
       "        color: rgb( 240, 20, 20 )\n",
       "        }\n",
       "</style>\n",
       "<script>\n",
       "    MathJax.Hub.Config({\n",
       "                        TeX: {\n",
       "                           extensions: [\"AMSmath.js\"]\n",
       "                           },\n",
       "                tex2jax: {\n",
       "                    inlineMath: [ ['$','$'], [\"\\\\(\",\"\\\\)\"] ],\n",
       "                    displayMath: [ ['$$','$$'], [\"\\\\[\",\"\\\\]\"] ]\n",
       "                },\n",
       "                displayAlign: 'center', // Change this to 'center' to center equations.\n",
       "                \"HTML-CSS\": {\n",
       "                    styles: {'.MathJax_Display': {\"margin\": 4}}\n",
       "                }\n",
       "        });\n",
       "</script>\n"
      ],
      "text/plain": [
       "<IPython.core.display.HTML object>"
      ]
     },
     "execution_count": 1,
     "metadata": {},
     "output_type": "execute_result"
    }
   ],
   "source": [
    "%matplotlib inline\n",
    "import pandas as pd\n",
    "import numpy as np\n",
    "import warnings\n",
    "\n",
    "from matplotlib import pyplot as plt\n",
    "from pandas.core.common import SettingWithCopyWarning\n",
    "warnings.simplefilter( 'ignore', SettingWithCopyWarning )\n",
    "\n",
    "from IPython.core.display import HTML\n",
    "\n",
    "def css_styling():\n",
    "    styles = open( '../styles/custom.css', 'r' ).read()\n",
    "    return HTML( styles )\n",
    "\n",
    "css_styling()"
   ]
  },
  {
   "cell_type": "code",
   "execution_count": 2,
   "metadata": {},
   "outputs": [],
   "source": [
    "# Import radon data\n",
    "srrs2 = pd.read_csv( '../dataset/srrs2.dat')\n",
    "srrs2.columns = srrs2.columns.map(str.strip)\n",
    "srrs_mn = srrs2[srrs2['state'] == 'MN']"
   ]
  },
  {
   "cell_type": "code",
   "execution_count": 3,
   "metadata": {},
   "outputs": [],
   "source": [
    "srrs_mn['fips'] = srrs_mn['stfips']*1000 + srrs_mn['cntyfips']\n",
    "cty = pd.read_csv( '../dataset/cty.dat' )\n",
    "cty_mn = cty[cty['st'] == 'MN']\n",
    "cty_mn['fips'] = 1000*cty_mn['stfips'] + cty_mn['ctfips']"
   ]
  },
  {
   "cell_type": "code",
   "execution_count": 4,
   "metadata": {},
   "outputs": [],
   "source": [
    "srrs_mn = srrs_mn.merge( cty_mn[['fips', 'Uppm']], on='fips' )\n",
    "srrs_mn = srrs_mn.drop_duplicates( subset='idnum' )\n",
    "u = np.log( srrs_mn['Uppm'] )\n",
    "\n",
    "n = len( srrs_mn )"
   ]
  },
  {
   "cell_type": "code",
   "execution_count": 5,
   "metadata": {},
   "outputs": [],
   "source": [
    "srrs_mn['county'] = srrs_mn['county'].map( str.strip )\n",
    "mn_counties = srrs_mn['county'].unique()\n",
    "county_lookup = dict( zip( mn_counties, range( len( mn_counties) ) ) )"
   ]
  },
  {
   "cell_type": "code",
   "execution_count": 6,
   "metadata": {},
   "outputs": [],
   "source": [
    "county = srrs_mn['county_code'] = srrs_mn['county'].replace( county_lookup ).values\n",
    "radon = srrs_mn['activity']\n",
    "srrs_mn['log_radon'] = log_radon = np.log( radon + 0.1 ).values\n",
    "floor_measure = srrs_mn['floor'].values"
   ]
  },
  {
   "cell_type": "markdown",
   "metadata": {},
   "source": [
    "## Distribution of radon levels in MN ( log scale )"
   ]
  },
  {
   "cell_type": "code",
   "execution_count": 7,
   "metadata": {},
   "outputs": [
    {
     "data": {
      "text/plain": [
       "<matplotlib.axes._subplots.AxesSubplot at 0x119259438>"
      ]
     },
     "execution_count": 7,
     "metadata": {},
     "output_type": "execute_result"
    },
    {
     "data": {
      "image/png": "[encoded data removed]",
      "text/plain": [
       "<Figure size 432x288 with 1 Axes>"
      ]
     },
     "metadata": {
      "needs_background": "light"
     },
     "output_type": "display_data"
    }
   ],
   "source": [
    "srrs_mn['activity'].apply( lambda x: np.log( x+0.1 ) ).hist( bins=25 )"
   ]
  },
  {
   "cell_type": "markdown",
   "metadata": {},
   "source": [
    "## Complete Pooling model ( Traditional Regression Model )"
   ]
  },
  {
   "cell_type": "code",
   "execution_count": 8,
   "metadata": {},
   "outputs": [
    {
     "name": "stderr",
     "output_type": "stream",
     "text": [
      "Multiprocess sampling (2 chains in 2 jobs)\n",
      "NUTS: [sd, floor, Intercept]\n",
      "Sampling 2 chains: 100%|██████████| 3000/3000 [00:03<00:00, 936.89draws/s] \n"
     ]
    }
   ],
   "source": [
    "from pymc3 import glm, Model, Metropolis, NUTS, sample\n",
    "\n",
    "with Model() as pooled_model:\n",
    "    glm.GLM.from_formula( 'log_radon ~ floor', srrs_mn )\n",
    "    pooled_trace = sample( 1000, NUTS() )"
   ]
  },
  {
   "cell_type": "code",
   "execution_count": 9,
   "metadata": {},
   "outputs": [],
   "source": [
    "b0, m0 = pooled_trace['Intercept'][500:].mean(), pooled_trace['floor'][500:].mean()"
   ]
  },
  {
   "cell_type": "code",
   "execution_count": 10,
   "metadata": {},
   "outputs": [
    {
     "data": {
      "text/plain": [
       "[<matplotlib.lines.Line2D at 0x126f126d8>]"
      ]
     },
     "execution_count": 10,
     "metadata": {},
     "output_type": "execute_result"
    },
    {
     "data": {
      "image/png": "[encoded data removed]",
      "text/plain": [
       "<Figure size 432x288 with 1 Axes>"
      ]
     },
     "metadata": {
      "needs_background": "light"
     },
     "output_type": "display_data"
    }
   ],
   "source": [
    "plt.scatter( srrs_mn['floor'], np.log(srrs_mn['activity']+0.1) )\n",
    "xvals = np.linspace( -0.2, 1.2 )\n",
    "plt.plot( xvals, m0*xvals+b0, 'r--' )"
   ]
  },
  {
   "cell_type": "markdown",
   "metadata": {},
   "source": [
    "Estimates of county radon levels for the unpooled model:"
   ]
  },
  {
   "cell_type": "code",
   "execution_count": 17,
   "metadata": {},
   "outputs": [],
   "source": [
    "from statsmodels.formula.api import ols\n",
    "unpooled_fit = ols( 'log_radon ~ C(county) + floor - 1', srrs_mn ).fit()\n",
    "unpooled_estimates = unpooled_fit.params"
   ]
  },
  {
   "cell_type": "code",
   "execution_count": 18,
   "metadata": {},
   "outputs": [],
   "source": [
    "unpooled_estimates = unpooled_estimates.rename(dict(zip(unpooled_estimates.index.values, [x[10:-1] or x for x in unpooled_estimates.index.values] )))\n",
    "unpooled_se = unpooled_fit.HC3_se.rename(dict(zip(unpooled_fit.HC3_se.index.values, [x[10:-1] or x for x in unpooled_fit.HC3_se.index.values])))"
   ]
  },
  {
   "cell_type": "markdown",
   "metadata": {},
   "source": [
    "We can plot the ordered estimates to identify counties with high radon levels:"
   ]
  },
  {
   "cell_type": "code",
   "execution_count": 26,
   "metadata": {},
   "outputs": [
    {
     "data": {
      "image/png": "[encoded data removed]",
      "text/plain": [
       "<Figure size 432x288 with 1 Axes>"
      ]
     },
     "metadata": {
      "needs_background": "light"
     },
     "output_type": "display_data"
    }
   ],
   "source": [
    "order = unpooled_estimates.sort_values()[1:].index\n",
    "\n",
    "plt.scatter(range(len(unpooled_estimates)-1), unpooled_estimates[order])\n",
    "for i, m, se in zip(range(len(unpooled_estimates)-1), unpooled_estimates[order], unpooled_se[order]):\n",
    "    plt.plot( [i,i], [m-se, m+se], 'b-')\n",
    "plt.xlim( -1, 86 ); plt.ylim(-1, 4 )\n",
    "plt.ylabel( 'Radon estimate' ); plt.xlabel( 'Ordered county' );\n"
   ]
  },
  {
   "cell_type": "markdown",
   "metadata": {},
   "source": [
    "Here a visual comparison between the pooled and unpooled estimates for a subset of counties representing a range of samples size"
   ]
  },
  {
   "cell_type": "code",
   "execution_count": 28,
   "metadata": {},
   "outputs": [
    {
     "data": {
      "image/png": "[encoded data removed]",
      "text/plain": [
       "<Figure size 864x432 with 8 Axes>"
      ]
     },
     "metadata": {
      "needs_background": "light"
     },
     "output_type": "display_data"
    }
   ],
   "source": [
    "sample_counties = ( 'LAC QUI PARLE', 'AITKIN', 'KOOCHICHING', \n",
    "                    'DOUGLAS', 'CLAY', 'STEARNS', 'RAMSEY', 'ST LOUIS')\n",
    "\n",
    "fig, axes = plt.subplots( 2, 4, figsize=(12,6), sharey=True, sharex=True )\n",
    "axes = axes.ravel()\n",
    "for i, c in enumerate( sample_counties ):\n",
    "    y = srrs_mn.log_radon[ srrs_mn.county == c ]\n",
    "    x = srrs_mn.floor[srrs_mn.county == c ]\n",
    "    axes[i].scatter(x + np.random.randn(len(x))*0.01, y, alpha=0.4 )\n",
    "    \n",
    "    # No pooling model\n",
    "    m, b = unpooled_estimates[['floor', c]]\n",
    "    \n",
    "    # Plot both models and data\n",
    "    xvals = np.linspace( -0.2, 1.2 )\n",
    "    axes[i].plot( xvals, m*xvals+b )\n",
    "    axes[i].plot( xvals, m0*xvals+b0, 'r--' )\n",
    "    axes[i].set_xticks([0,1])\n",
    "    axes[i].set_xticklabels(['basement', 'floor'])\n",
    "    axes[i].set_ylim(-1, 3)\n",
    "    axes[i].set_title( c )\n",
    "    if not i%2:\n",
    "        axes[i].set_ylabel( 'log radon level' )"
   ]
  },
  {
   "cell_type": "markdown",
   "metadata": {},
   "source": [
    "## Multilevel and hierarchical models"
   ]
  },
  {
   "cell_type": "markdown",
   "metadata": {},
   "source": [
    "### Partial pooling model"
   ]
  },
  {
   "cell_type": "code",
   "execution_count": 29,
   "metadata": {},
   "outputs": [],
   "source": [
    "from pymc3 import Normal, Model, Uniform\n",
    "\n",
    "with Model() as partial_pooling:\n",
    "    \n",
    "    # Priors\n",
    "    mu_a = Normal( 'mu_a', mu=0., tau=0.0001 )\n",
    "    sigma_a = Uniform( 'sigma_a', lower=0, upper=100 )\n",
    "    tau_a = sigma_a**-2\n",
    "    \n",
    "    # Random intercepts\n",
    "    a = Normal( 'a', mu=mu_a, tau=tau_a, shape=len(set(county)))\n",
    "    \n",
    "    # Model error\n",
    "    sigma_y = Uniform( 'sigma_y', lower=0, upper=100 )\n",
    "    tau_y = sigma_y**-2\n",
    "    \n",
    "    # Expected value\n",
    "    y_hat = a[county]\n",
    "    \n",
    "    # Data likelihood\n",
    "    y_like = Normal( 'y_like', mu=y_hat, tau=tau_y, observed=log_radon )"
   ]
  },
  {
   "cell_type": "code",
   "execution_count": 30,
   "metadata": {},
   "outputs": [
    {
     "name": "stderr",
     "output_type": "stream",
     "text": [
      "Multiprocess sampling (2 chains in 2 jobs)\n",
      "NUTS: [sigma_y, a, sigma_a, mu_a]\n",
      "Sampling 2 chains: 100%|██████████| 5000/5000 [00:16<00:00, 304.54draws/s]\n",
      "The number of effective samples is smaller than 25% for some parameters.\n"
     ]
    }
   ],
   "source": [
    "from pymc3 import sample\n",
    "\n",
    "with partial_pooling:\n",
    "    \n",
    "    step = NUTS()\n",
    "    \n",
    "    partial_pooling_samples = sample( 2000, step )"
   ]
  },
  {
   "cell_type": "code",
   "execution_count": null,
   "metadata": {},
   "outputs": [],
   "source": [
    "sample_trace = partial_pooling_samples['a'][-1000:]\n",
    "\n",
    "fig, axes = plt.subplots( 1, 2, figsize=(14,))"
   ]
  }
 ],
 "metadata": {
  "kernelspec": {
   "display_name": "Python 3",
   "language": "python",
   "name": "python3"
  },
  "language_info": {
   "codemirror_mode": {
    "name": "ipython",
    "version": 3
   },
   "file_extension": ".py",
   "mimetype": "text/x-python",
   "name": "python",
   "nbconvert_exporter": "python",
   "pygments_lexer": "ipython3",
   "version": "3.6.0"
  }
 },
 "nbformat": 4,
 "nbformat_minor": 2
}
